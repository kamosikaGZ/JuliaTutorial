{
 "cells": [
  {
   "cell_type": "markdown",
   "metadata": {
    "collapsed": true
   },
   "source": [
    "作業內容： 用tensorflow實作mnist的手寫數字分類\n",
    "\n",
    "    在這次作業中，會用到tensorflow的一些基本套件，完成簡單的類神經網路\n",
    "    手寫數字分類，是屬於classification的問題"
   ]
  },
  {
   "cell_type": "markdown",
   "metadata": {},
   "source": [
    "首先要先仔入會用到的相關套件\n"
   ]
  },
  {
   "cell_type": "code",
   "execution_count": 59,
   "metadata": {
    "collapsed": true
   },
   "outputs": [],
   "source": [
    "# tensorflow & 載入 tensorflow 提供的 mnist 範例\n",
    "import tensorflow as tf\n",
    "import tensorflow.examples.tutorials.mnist.input_data as input_data\n",
    "# 畫圖用\n",
    "import matplotlib.pyplot as plt"
   ]
  },
  {
   "cell_type": "markdown",
   "metadata": {},
   "source": [
    "dataset的部分直接載入tensorflow提供的mnist dataset\n",
    "\n",
    "載入時，將one_hot設定為true，會自動把label的部分換成 one hot encoding 的形式"
   ]
  },
  {
   "cell_type": "code",
   "execution_count": 60,
   "metadata": {},
   "outputs": [
    {
     "name": "stdout",
     "output_type": "stream",
     "text": [
      "Extracting MNIST_data/train-images-idx3-ubyte.gz\n",
      "Extracting MNIST_data/train-labels-idx1-ubyte.gz\n",
      "Extracting MNIST_data/t10k-images-idx3-ubyte.gz\n",
      "Extracting MNIST_data/t10k-labels-idx1-ubyte.gz\n",
      "\n",
      "number of train 55000\n",
      "number of validation 5000\n",
      "number of test 10000\n"
     ]
    }
   ],
   "source": [
    "###################################################################################################################\n",
    "## dataset\n",
    "#載入 data\n",
    "mnist_dataset = input_data.read_data_sets(\"MNIST_data/\",one_hot=True)\n",
    "print()\n",
    "\n",
    "print('number of train', mnist_dataset.train.num_examples)\n",
    "print('number of validation', mnist_dataset.validation.num_examples)\n",
    "print('number of test',mnist_dataset.test.num_examples)"
   ]
  },
  {
   "cell_type": "markdown",
   "metadata": {},
   "source": [
    "dataset中，每一張圖皆為一個手寫的數字，並且會有相對應的label\n",
    "\n",
    "label為 0~9 共10個分類\n",
    "\n",
    "在下面的例子中，可以看到在第8個label為1，代表此張圖的正確分類為7(label從0開始算)"
   ]
  },
  {
   "cell_type": "code",
   "execution_count": 61,
   "metadata": {},
   "outputs": [
    {
     "data": {
      "image/png": "[encoded data removed]",
      "text/plain": [
       "<matplotlib.figure.Figure at 0x1fbbe1aee80>"
      ]
     },
     "metadata": {},
     "output_type": "display_data"
    }
   ],
   "source": [
    "#畫一張 data 圖\n",
    "plt.figure(1)\n",
    "plt.title(mnist_dataset.train.labels[0])\n",
    "plt.imshow(mnist_dataset.train.images[0].reshape(28,28),cmap='binary')\n",
    "plt.show()"
   ]
  },
  {
   "cell_type": "markdown",
   "metadata": {},
   "source": [
    "再來要開始建置簡單的類神經網路模型\n",
    "\n",
    "先做一個簡單的函式用來宣告所有的layer\n",
    "\n",
    "每個神經元最基本的運算為\n",
    "\n",
    "f(x) = wx + b\n",
    "\n",
    "w、b分別為炫戀時會調整的 weighting 和 bias\n",
    "\n",
    "在函式中的前3行即為 weighting、bias 的宣告以及運算\n",
    "\n",
    "函式的輸入參數分別包含了\n",
    "\n",
    "    inputs_data : 輸入值\n",
    "    input_dim : inputs_data 的 維度\n",
    "    filter_Num : 此 layer 的神經元數量，也是此 layer 的 output 的維度\n",
    "    activation : 要做的額外處理 (ex. relu)\n",
    "\n",
    "宣告完這個函式後，就可以開始建立 model 本身"
   ]
  },
  {
   "cell_type": "code",
   "execution_count": 62,
   "metadata": {
    "collapsed": true
   },
   "outputs": [],
   "source": [
    "###################################################################################################################\n",
    "## layer\n",
    "# inputs_data : 輸入值\n",
    "# input_dim : inputs_data 的 維度\n",
    "# filter_Num : 此 layer 的神經元數量，也是此 layer 的 output 的維度\n",
    "# activation : 要做的額外處理 (ex. relu)\n",
    "def layer(inputs_data, input_dim, filter_Num, activation=None):\n",
    "    weight = tf.Variable(tf.random_normal([input_dim,filter_Num]))\n",
    "    bias = tf.Variable(tf.random_normal([1,filter_Num]))\n",
    "    conv_func = tf.add(tf.matmul(inputs_data, weight),bias)\n",
    "    if activation is None:\n",
    "        return conv_func\n",
    "    else:\n",
    "        return activation(conv_func)"
   ]
  },
  {
   "cell_type": "markdown",
   "metadata": {},
   "source": [
    "一開始先宣告兩個 placeholder 來放置 training data 的 input(圖片) 以及 output(label)"
   ]
  },
  {
   "cell_type": "code",
   "execution_count": 63,
   "metadata": {
    "collapsed": true
   },
   "outputs": [],
   "source": [
    "###################################################################################################################\n",
    "## model的設定\n",
    "# inout output設定\n",
    "x = tf.placeholder(\"float\",[None,784])#放 input img 的\n",
    "y_GT = tf.placeholder(\"float\",[None,10])#放 output label 的"
   ]
  },
  {
   "cell_type": "markdown",
   "metadata": {},
   "source": [
    "再來宣告一個簡單的3層 hidden layer 架構\n",
    "\n",
    "layer1的設定：\n",
    "\n",
    "    輸入的資料為原始的圖片資料x\n",
    "    輸入維度為圖片的大小784(28x28)\n",
    "    在此層中，我設計給他128個神經元\n",
    "    最結尾時多做一個relu的動作\n",
    "    \n",
    "layer2的設定：\n",
    "\n",
    "    輸入的資料為上一層 layer1 的結果 output\n",
    "    輸入維度承接了上一層結果的維度，為128\n",
    "    越後面的hidden layer，習慣上會有更多的神經元，在此我設定為256\n",
    "    最結尾時一樣做一個relu的動作\n",
    "    \n",
    "outputlayer的設定：\n",
    "\n",
    "    輸入的資料為上一層 layer2 的結果 output\n",
    "    輸入維度承接了上一層結果的維度，為256\n",
    "    outputlayer的神經元數量需跟最後的label分類數量一致，所以為10\n",
    "    outputlayer的結尾會直接接上softmax，若有relu會影響softmax的結果，所以這層不做設定"
   ]
  },
  {
   "cell_type": "code",
   "execution_count": 64,
   "metadata": {
    "collapsed": true
   },
   "outputs": [],
   "source": [
    "# 建立model\n",
    "layer1 = layer(x,784,128,tf.nn.relu)\n",
    "layer2 = layer(layer1,128,256,tf.nn.relu)\n",
    "outputLayer = layer(layer2,256,10,None)"
   ]
  },
  {
   "cell_type": "markdown",
   "metadata": {},
   "source": [
    "最後是定義 loss function 和宣告 optimizer 給 model 做 back propagation\n",
    "\n",
    "loss function 部分，我比較了 model 產生的結果(outputLayer) 和實際資料的結果(y_GT) 的 softmax 差異，並希望差異越小越好\n",
    "\n",
    "optimizer 部分則是設定 learning rate 以及 back propagation 用的 loss function"
   ]
  },
  {
   "cell_type": "code",
   "execution_count": 65,
   "metadata": {
    "collapsed": true
   },
   "outputs": [],
   "source": [
    "# 定義 loss function\n",
    "loss_function = tf.reduce_mean(tf.nn.softmax_cross_entropy_with_logits(logits=outputLayer, labels=y_GT))\n",
    "# optimizer，會依照loss function的feed back去調整model中的filter值\n",
    "optimizer = tf.train.AdamOptimizer(learning_rate=0.001).minimize(loss_function)"
   ]
  },
  {
   "cell_type": "markdown",
   "metadata": {},
   "source": [
    "後面加上一些計算 accuracy 的 function，可以院來畫成圖表"
   ]
  },
  {
   "cell_type": "code",
   "execution_count": 66,
   "metadata": {
    "collapsed": true
   },
   "outputs": [],
   "source": [
    "# 計算 accuracy\n",
    "correct_prediction = tf.equal(tf.argmax(y_GT,1),tf.argmax(outputLayer,1))\n",
    "accuracy = tf.reduce_mean(tf.cast(correct_prediction,\"float\"))"
   ]
  },
  {
   "cell_type": "markdown",
   "metadata": {},
   "source": [
    "做完 model 後，開始實際的 training 動作\n",
    "\n",
    "首先要做一些training的設定，包含：\n",
    "\n",
    "    epoch : dataset 總共要 train 幾次\n",
    "    batch size: 一次 model 的更新要用幾筆資料\n",
    "    session的宣告\n",
    "    \n",
    "然後宣告一些空陣列用來記錄以及最後畫圖表用"
   ]
  },
  {
   "cell_type": "code",
   "execution_count": 67,
   "metadata": {
    "collapsed": true
   },
   "outputs": [],
   "source": [
    "###################################################################################################################\n",
    "## training\n",
    "#基本設定\n",
    "epoch = 10\n",
    "batchSize = 128\n",
    "batchPerEpoch = int(mnist_dataset.train.num_examples/batchSize)\n",
    "\n",
    "# 設定session\n",
    "sess = tf.Session()\n",
    "sess.run(tf.global_variables_initializer())\n",
    "\n",
    "#空陣列，紀錄用\n",
    "epoch_list = list()\n",
    "for i in range(0, epoch):\n",
    "    epoch_list.append(i)\n",
    "loss_train_record=list()\n",
    "acc_train_record=list()\n",
    "loss_val_record=list()\n",
    "acc_val_record=list()"
   ]
  },
  {
   "cell_type": "markdown",
   "metadata": {},
   "source": [
    "開始用 for 迴圈，將 data 餵給 model 做training\n",
    "\n",
    "在 for 迴圈中，會將 data 分成小 batch 餵到 model 中做 training\n",
    "\n",
    "下面的程式碼中， sess.run(optimizer,feed_dict={x:batch_x,y_GT:batch_y}) 即為餵 data 更新 model 的動作\n",
    "\n",
    "每跑完一次 epoch ，我會計算一次在 training data 及 validation data 的 loss 以及 accuracy\n",
    "\n",
    "跑完所有 epoch 後畫出 training 狀況的曲線圖"
   ]
  },
  {
   "cell_type": "code",
   "execution_count": 68,
   "metadata": {},
   "outputs": [
    {
     "name": "stdout",
     "output_type": "stream",
     "text": [
      "Epoch[ 0 ]\n",
      "\ttrain  loss: 55.899 acc: 0.805418\n",
      "\tval    loss: 53.5201 acc: 0.8048\n",
      "Epoch[ 1 ]\n",
      "\ttrain  loss: 31.3164 acc: 0.866291\n",
      "\tval    loss: 31.0762 acc: 0.8666\n",
      "Epoch[ 2 ]\n",
      "\ttrain  loss: 21.6979 acc: 0.892055\n",
      "\tval    loss: 23.1288 acc: 0.8898\n",
      "Epoch[ 3 ]\n",
      "\ttrain  loss: 16.1352 acc: 0.909982\n",
      "\tval    loss: 18.8975 acc: 0.9014\n",
      "Epoch[ 4 ]\n",
      "\ttrain  loss: 12.4215 acc: 0.921691\n",
      "\tval    loss: 16.3074 acc: 0.9074\n",
      "Epoch[ 5 ]\n",
      "\ttrain  loss: 9.92908 acc: 0.931291\n",
      "\tval    loss: 14.6245 acc: 0.913\n",
      "Epoch[ 6 ]\n",
      "\ttrain  loss: 8.10918 acc: 0.938545\n",
      "\tval    loss: 13.3333 acc: 0.9186\n",
      "Epoch[ 7 ]\n",
      "\ttrain  loss: 6.58713 acc: 0.945091\n",
      "\tval    loss: 12.4666 acc: 0.9234\n",
      "Epoch[ 8 ]\n",
      "\ttrain  loss: 5.64813 acc: 0.948709\n",
      "\tval    loss: 11.9873 acc: 0.9268\n",
      "Epoch[ 9 ]\n",
      "\ttrain  loss: 4.76333 acc: 0.952727\n",
      "\tval    loss: 11.2721 acc: 0.9266\n",
      "\n"
     ]
    },
    {
     "data": {
      "image/png": "[encoded data removed]",
      "text/plain": [
       "<matplotlib.figure.Figure at 0x1fbc00058d0>"
      ]
     },
     "metadata": {},
     "output_type": "display_data"
    },
    {
     "data": {
      "image/png": "[encoded data removed]",
      "text/plain": [
       "<matplotlib.figure.Figure at 0x1fbbe434278>"
      ]
     },
     "metadata": {},
     "output_type": "display_data"
    }
   ],
   "source": [
    "# 跑 epoch 做 training\n",
    "for epoch in range(epoch):\n",
    "    # for every batch\n",
    "    for i in range(batchPerEpoch):#\n",
    "        #batch_x, batch_y = mnist_dataset.train.next_batch(batchSize)\n",
    "        batch_x =  mnist_dataset.train.images[i*batchSize:(i+1)*batchSize]\n",
    "        batch_y =  mnist_dataset.train.labels[i*batchSize:(i+1)*batchSize]\n",
    "        # training\n",
    "        sess.run(optimizer,feed_dict={x:batch_x,y_GT:batch_y})\n",
    "    # epoch 狀況    \n",
    "    loss_train,acc_train = sess.run([loss_function,accuracy],feed_dict={x:mnist_dataset.train.images,y_GT:mnist_dataset.train.labels})\n",
    "    loss_val,acc_val = sess.run([loss_function,accuracy],feed_dict={x:mnist_dataset.validation.images,y_GT:mnist_dataset.validation.labels})\n",
    "    \n",
    "    loss_train_record.append(loss_train)\n",
    "    acc_train_record.append(acc_train)\n",
    "    loss_val_record.append(loss_val)\n",
    "    acc_val_record.append(acc_val)\n",
    "    \n",
    "    #print(\"Epoch[\",epoch,\"]  loss:\",loss_val,\"acc:\",acc_val)\n",
    "    print(\"Epoch[\",epoch,\"]\")\n",
    "    print(\"\\ttrain  loss:\",loss_train,\"acc:\",acc_train)\n",
    "    print(\"\\tval    loss:\",loss_val,\"acc:\",acc_val)\n",
    "print()\n",
    "\n",
    "#畫 loss 圖\n",
    "plt.figure(2)\n",
    "plt.plot(epoch_list, loss_train_record, label='loss_train')\n",
    "plt.plot(epoch_list, loss_val_record, label='loss_validation')\n",
    "plt.ylabel('loss')\n",
    "plt.xlabel('epoch')\n",
    "plt.legend(['loss_train','loss_val'],loc='upper right')\n",
    "plt.show()\n",
    "\n",
    "#畫 acc 圖\n",
    "plt.figure(3)\n",
    "plt.title(\"Accuracy\")\n",
    "plt.plot(epoch_list, acc_train_record, label='acc_train')\n",
    "plt.plot(epoch_list, acc_val_record, label='acc_validation')\n",
    "plt.ylabel('acc')\n",
    "plt.xlabel('epoch')\n",
    "plt.legend(['acc_train','acc_val'],loc='lower right')\n",
    "plt.show()"
   ]
  },
  {
   "cell_type": "markdown",
   "metadata": {},
   "source": [
    "最後將 testing data 餵給 traini 好的 model，笧收最後的結果"
   ]
  },
  {
   "cell_type": "code",
   "execution_count": 69,
   "metadata": {},
   "outputs": [
    {
     "name": "stdout",
     "output_type": "stream",
     "text": [
      "Testing sesult:\n",
      "\tTesting  loss: 4.76333 acc: 0.952727\n"
     ]
    }
   ],
   "source": [
    "###################################################################################################################\n",
    "## testing\n",
    "loss_test=list()\n",
    "acc_test=list()\n",
    "\n",
    "#testing\n",
    "loss_test,acc_test = sess.run([loss_function,accuracy],feed_dict={x:mnist_dataset.test.images,y_GT:mnist_dataset.test.labels})\n",
    "\n",
    "print(\"Testing sesult:\")\n",
    "print(\"\\tTesting  loss:\",loss_train,\"acc:\",acc_train)\n"
   ]
  }
 ],
 "metadata": {
  "kernelspec": {
   "display_name": "Python 3",
   "language": "python",
   "name": "python3"
  },
  "language_info": {
   "codemirror_mode": {
    "name": "ipython",
    "version": 3
   },
   "file_extension": ".py",
   "mimetype": "text/x-python",
   "name": "python",
   "nbconvert_exporter": "python",
   "pygments_lexer": "ipython3",
   "version": "3.5.3"
  }
 },
 "nbformat": 4,
 "nbformat_minor": 2
}
